{
 "cells": [
  {
   "cell_type": "code",
   "execution_count": 1,
   "metadata": {},
   "outputs": [],
   "source": [
    "import pandas as pd\n",
    "import matplotlib.pyplot as plt\n",
    "import numpy as np"
   ]
  },
  {
   "cell_type": "markdown",
   "metadata": {},
   "source": [
    "### Data Input"
   ]
  },
  {
   "cell_type": "code",
   "execution_count": 2,
   "metadata": {},
   "outputs": [
    {
     "data": {
      "text/html": [
       "<div>\n",
       "<style scoped>\n",
       "    .dataframe tbody tr th:only-of-type {\n",
       "        vertical-align: middle;\n",
       "    }\n",
       "\n",
       "    .dataframe tbody tr th {\n",
       "        vertical-align: top;\n",
       "    }\n",
       "\n",
       "    .dataframe thead th {\n",
       "        text-align: right;\n",
       "    }\n",
       "</style>\n",
       "<table border=\"1\" class=\"dataframe\">\n",
       "  <thead>\n",
       "    <tr style=\"text-align: right;\">\n",
       "      <th></th>\n",
       "      <th>0</th>\n",
       "      <th>1</th>\n",
       "    </tr>\n",
       "  </thead>\n",
       "  <tbody>\n",
       "    <tr>\n",
       "      <th>0</th>\n",
       "      <td>-5.00000</td>\n",
       "      <td>-140.824496</td>\n",
       "    </tr>\n",
       "    <tr>\n",
       "      <th>1</th>\n",
       "      <td>-4.69132</td>\n",
       "      <td>-123.311058</td>\n",
       "    </tr>\n",
       "    <tr>\n",
       "      <th>2</th>\n",
       "      <td>-4.38264</td>\n",
       "      <td>-106.885118</td>\n",
       "    </tr>\n",
       "    <tr>\n",
       "      <th>3</th>\n",
       "      <td>-4.07396</td>\n",
       "      <td>-91.546678</td>\n",
       "    </tr>\n",
       "    <tr>\n",
       "      <th>4</th>\n",
       "      <td>-3.76528</td>\n",
       "      <td>-77.295735</td>\n",
       "    </tr>\n",
       "    <tr>\n",
       "      <th>5</th>\n",
       "      <td>-3.45660</td>\n",
       "      <td>-64.132292</td>\n",
       "    </tr>\n",
       "    <tr>\n",
       "      <th>6</th>\n",
       "      <td>-3.14792</td>\n",
       "      <td>-52.056347</td>\n",
       "    </tr>\n",
       "    <tr>\n",
       "      <th>7</th>\n",
       "      <td>-2.83924</td>\n",
       "      <td>-41.067900</td>\n",
       "    </tr>\n",
       "    <tr>\n",
       "      <th>8</th>\n",
       "      <td>-2.53056</td>\n",
       "      <td>-31.166953</td>\n",
       "    </tr>\n",
       "    <tr>\n",
       "      <th>9</th>\n",
       "      <td>-2.22188</td>\n",
       "      <td>-22.353503</td>\n",
       "    </tr>\n",
       "    <tr>\n",
       "      <th>10</th>\n",
       "      <td>-1.91320</td>\n",
       "      <td>-14.627553</td>\n",
       "    </tr>\n",
       "    <tr>\n",
       "      <th>11</th>\n",
       "      <td>-1.60452</td>\n",
       "      <td>-7.989101</td>\n",
       "    </tr>\n",
       "    <tr>\n",
       "      <th>12</th>\n",
       "      <td>-1.29584</td>\n",
       "      <td>-2.438148</td>\n",
       "    </tr>\n",
       "    <tr>\n",
       "      <th>13</th>\n",
       "      <td>-0.98716</td>\n",
       "      <td>2.025307</td>\n",
       "    </tr>\n",
       "    <tr>\n",
       "      <th>14</th>\n",
       "      <td>-0.67848</td>\n",
       "      <td>5.401263</td>\n",
       "    </tr>\n",
       "    <tr>\n",
       "      <th>15</th>\n",
       "      <td>-0.36980</td>\n",
       "      <td>7.689721</td>\n",
       "    </tr>\n",
       "    <tr>\n",
       "      <th>16</th>\n",
       "      <td>-0.06112</td>\n",
       "      <td>8.890680</td>\n",
       "    </tr>\n",
       "    <tr>\n",
       "      <th>17</th>\n",
       "      <td>0.24756</td>\n",
       "      <td>9.004140</td>\n",
       "    </tr>\n",
       "    <tr>\n",
       "      <th>18</th>\n",
       "      <td>0.55624</td>\n",
       "      <td>8.030102</td>\n",
       "    </tr>\n",
       "    <tr>\n",
       "      <th>19</th>\n",
       "      <td>0.86492</td>\n",
       "      <td>5.968565</td>\n",
       "    </tr>\n",
       "    <tr>\n",
       "      <th>20</th>\n",
       "      <td>1.17360</td>\n",
       "      <td>2.819530</td>\n",
       "    </tr>\n",
       "    <tr>\n",
       "      <th>21</th>\n",
       "      <td>1.48228</td>\n",
       "      <td>-1.417004</td>\n",
       "    </tr>\n",
       "    <tr>\n",
       "      <th>22</th>\n",
       "      <td>1.79096</td>\n",
       "      <td>-6.741037</td>\n",
       "    </tr>\n",
       "    <tr>\n",
       "      <th>23</th>\n",
       "      <td>2.09964</td>\n",
       "      <td>-13.152568</td>\n",
       "    </tr>\n",
       "    <tr>\n",
       "      <th>24</th>\n",
       "      <td>2.40832</td>\n",
       "      <td>-20.651598</td>\n",
       "    </tr>\n",
       "    <tr>\n",
       "      <th>25</th>\n",
       "      <td>2.71700</td>\n",
       "      <td>-29.238126</td>\n",
       "    </tr>\n",
       "    <tr>\n",
       "      <th>26</th>\n",
       "      <td>3.02568</td>\n",
       "      <td>-38.912153</td>\n",
       "    </tr>\n",
       "    <tr>\n",
       "      <th>27</th>\n",
       "      <td>3.33436</td>\n",
       "      <td>-49.673679</td>\n",
       "    </tr>\n",
       "    <tr>\n",
       "      <th>28</th>\n",
       "      <td>3.64304</td>\n",
       "      <td>-61.522703</td>\n",
       "    </tr>\n",
       "    <tr>\n",
       "      <th>29</th>\n",
       "      <td>3.95172</td>\n",
       "      <td>-74.459226</td>\n",
       "    </tr>\n",
       "    <tr>\n",
       "      <th>30</th>\n",
       "      <td>4.26040</td>\n",
       "      <td>-88.483247</td>\n",
       "    </tr>\n",
       "    <tr>\n",
       "      <th>31</th>\n",
       "      <td>4.56908</td>\n",
       "      <td>-103.594767</td>\n",
       "    </tr>\n",
       "    <tr>\n",
       "      <th>32</th>\n",
       "      <td>4.87776</td>\n",
       "      <td>-119.793786</td>\n",
       "    </tr>\n",
       "  </tbody>\n",
       "</table>\n",
       "</div>"
      ],
      "text/plain": [
       "          0           1\n",
       "0  -5.00000 -140.824496\n",
       "1  -4.69132 -123.311058\n",
       "2  -4.38264 -106.885118\n",
       "3  -4.07396  -91.546678\n",
       "4  -3.76528  -77.295735\n",
       "5  -3.45660  -64.132292\n",
       "6  -3.14792  -52.056347\n",
       "7  -2.83924  -41.067900\n",
       "8  -2.53056  -31.166953\n",
       "9  -2.22188  -22.353503\n",
       "10 -1.91320  -14.627553\n",
       "11 -1.60452   -7.989101\n",
       "12 -1.29584   -2.438148\n",
       "13 -0.98716    2.025307\n",
       "14 -0.67848    5.401263\n",
       "15 -0.36980    7.689721\n",
       "16 -0.06112    8.890680\n",
       "17  0.24756    9.004140\n",
       "18  0.55624    8.030102\n",
       "19  0.86492    5.968565\n",
       "20  1.17360    2.819530\n",
       "21  1.48228   -1.417004\n",
       "22  1.79096   -6.741037\n",
       "23  2.09964  -13.152568\n",
       "24  2.40832  -20.651598\n",
       "25  2.71700  -29.238126\n",
       "26  3.02568  -38.912153\n",
       "27  3.33436  -49.673679\n",
       "28  3.64304  -61.522703\n",
       "29  3.95172  -74.459226\n",
       "30  4.26040  -88.483247\n",
       "31  4.56908 -103.594767\n",
       "32  4.87776 -119.793786"
      ]
     },
     "execution_count": 2,
     "metadata": {},
     "output_type": "execute_result"
    }
   ],
   "source": [
    "df = pd.read_csv(\"data/linear_data.txt\", header=None)\n",
    "df"
   ]
  },
  {
   "cell_type": "markdown",
   "metadata": {},
   "source": [
    "### Data Preprocessing"
   ]
  },
  {
   "cell_type": "markdown",
   "metadata": {},
   "source": [
    "#### create xsum array  \n",
    "$\n",
    "\\begin{align}\n",
    "xsum[k] = \\sum_{i=1}^n x_i^k\n",
    "\\end{align}\n",
    "$"
   ]
  },
  {
   "cell_type": "code",
   "execution_count": 3,
   "metadata": {},
   "outputs": [
    {
     "data": {
      "text/plain": [
       "0      33.000000\n",
       "1      -2.016960\n",
       "2     285.211037\n",
       "3     -52.281226\n",
       "4    4434.141092\n",
       "dtype: float64"
      ]
     },
     "execution_count": 3,
     "metadata": {},
     "output_type": "execute_result"
    }
   ],
   "source": [
    "n = 3 # Use n = 3 as example\n",
    "xsum = pd.Series([(df[0] ** i).sum() for i in range(n * 2 - 1)])\n",
    "xsum"
   ]
  },
  {
   "cell_type": "markdown",
   "metadata": {},
   "source": [
    "#### create y array\n",
    "$\n",
    "\\begin{align}\n",
    "y[k] = \\sum_{i=1}^n x_i^k \\times y_i\n",
    "\\end{align}\n",
    "$"
   ]
  },
  {
   "cell_type": "code",
   "execution_count": 4,
   "metadata": {},
   "outputs": [
    {
     "data": {
      "text/plain": [
       "0    -1333.505466\n",
       "1      688.483369\n",
       "2   -22812.206672\n",
       "dtype: float64"
      ]
     },
     "execution_count": 4,
     "metadata": {},
     "output_type": "execute_result"
    }
   ],
   "source": [
    "y = pd.Series([(df[0] ** i * df[1]).sum() for i in range(n)])\n",
    "y"
   ]
  },
  {
   "cell_type": "markdown",
   "metadata": {},
   "source": [
    "#### create a matrix that looks that the one below\n",
    "$\n",
    "\\begin{align}\n",
    "\\begin{vmatrix}\n",
    "xsum[0] & xsum[1] & xsum[2] & ... & xsum[n-1] & y[0] \\\\\n",
    "xsum[1] & xsum[2] & xsum[3] & ... & xsum[n-1] & y[1] \\\\\n",
    "xsum[2] & xsum[3] & xsum[4] & ... & xsum[n-1] & y[2] \\\\\n",
    "... \\\\\n",
    "xsum[n-1] & xsum[n] & xsum[n+1] & ... & xsum[n * 2 - 1] & y[n - 1] \\\\\n",
    "\\end{vmatrix}\n",
    "\\end{align}\n",
    "$"
   ]
  },
  {
   "cell_type": "code",
   "execution_count": 5,
   "metadata": {},
   "outputs": [
    {
     "data": {
      "text/html": [
       "<div>\n",
       "<style scoped>\n",
       "    .dataframe tbody tr th:only-of-type {\n",
       "        vertical-align: middle;\n",
       "    }\n",
       "\n",
       "    .dataframe tbody tr th {\n",
       "        vertical-align: top;\n",
       "    }\n",
       "\n",
       "    .dataframe thead th {\n",
       "        text-align: right;\n",
       "    }\n",
       "</style>\n",
       "<table border=\"1\" class=\"dataframe\">\n",
       "  <thead>\n",
       "    <tr style=\"text-align: right;\">\n",
       "      <th></th>\n",
       "      <th>0</th>\n",
       "      <th>1</th>\n",
       "      <th>2</th>\n",
       "      <th>3</th>\n",
       "    </tr>\n",
       "  </thead>\n",
       "  <tbody>\n",
       "    <tr>\n",
       "      <th>0</th>\n",
       "      <td>33.000000</td>\n",
       "      <td>-2.016960</td>\n",
       "      <td>285.211037</td>\n",
       "      <td>-1333.505466</td>\n",
       "    </tr>\n",
       "    <tr>\n",
       "      <th>1</th>\n",
       "      <td>-2.016960</td>\n",
       "      <td>285.211037</td>\n",
       "      <td>-52.281226</td>\n",
       "      <td>688.483369</td>\n",
       "    </tr>\n",
       "    <tr>\n",
       "      <th>2</th>\n",
       "      <td>285.211037</td>\n",
       "      <td>-52.281226</td>\n",
       "      <td>4434.141092</td>\n",
       "      <td>-22812.206672</td>\n",
       "    </tr>\n",
       "  </tbody>\n",
       "</table>\n",
       "</div>"
      ],
      "text/plain": [
       "            0           1            2             3\n",
       "0   33.000000   -2.016960   285.211037  -1333.505466\n",
       "1   -2.016960  285.211037   -52.281226    688.483369\n",
       "2  285.211037  -52.281226  4434.141092 -22812.206672"
      ]
     },
     "execution_count": 5,
     "metadata": {},
     "output_type": "execute_result"
    }
   ],
   "source": [
    "matrix = []\n",
    "for i in range(n):\n",
    "    tmp = [xsum[i + j] for j in range(n)]\n",
    "    tmp.append(y[i])\n",
    "    matrix.append(tmp)\n",
    "matrix = pd.DataFrame(matrix)\n",
    "matrix"
   ]
  },
  {
   "cell_type": "markdown",
   "metadata": {},
   "source": [
    "### Run Gaussian Jordan elimination"
   ]
  },
  {
   "cell_type": "code",
   "execution_count": 6,
   "metadata": {},
   "outputs": [
    {
     "data": {
      "text/html": [
       "<div>\n",
       "<style scoped>\n",
       "    .dataframe tbody tr th:only-of-type {\n",
       "        vertical-align: middle;\n",
       "    }\n",
       "\n",
       "    .dataframe tbody tr th {\n",
       "        vertical-align: top;\n",
       "    }\n",
       "\n",
       "    .dataframe thead th {\n",
       "        text-align: right;\n",
       "    }\n",
       "</style>\n",
       "<table border=\"1\" class=\"dataframe\">\n",
       "  <thead>\n",
       "    <tr style=\"text-align: right;\">\n",
       "      <th></th>\n",
       "      <th>0</th>\n",
       "      <th>1</th>\n",
       "      <th>2</th>\n",
       "      <th>3</th>\n",
       "    </tr>\n",
       "  </thead>\n",
       "  <tbody>\n",
       "    <tr>\n",
       "      <th>0</th>\n",
       "      <td>1.0</td>\n",
       "      <td>0.0</td>\n",
       "      <td>0.0</td>\n",
       "      <td>8.999492</td>\n",
       "    </tr>\n",
       "    <tr>\n",
       "      <th>1</th>\n",
       "      <td>0.0</td>\n",
       "      <td>1.0</td>\n",
       "      <td>0.0</td>\n",
       "      <td>1.431515</td>\n",
       "    </tr>\n",
       "    <tr>\n",
       "      <th>2</th>\n",
       "      <td>0.0</td>\n",
       "      <td>0.0</td>\n",
       "      <td>1.0</td>\n",
       "      <td>-5.706656</td>\n",
       "    </tr>\n",
       "  </tbody>\n",
       "</table>\n",
       "</div>"
      ],
      "text/plain": [
       "     0    1    2         3\n",
       "0  1.0  0.0  0.0  8.999492\n",
       "1  0.0  1.0  0.0  1.431515\n",
       "2  0.0  0.0  1.0 -5.706656"
      ]
     },
     "execution_count": 6,
     "metadata": {},
     "output_type": "execute_result"
    }
   ],
   "source": [
    "# Gaussian Jordan elimination\n",
    "for i in range(n):\n",
    "    if matrix[i][i] == 0:\n",
    "        continue\n",
    "    matrix.loc[i] /= matrix[i][i]\n",
    "    for j in range(n):\n",
    "        if i == j:\n",
    "            continue\n",
    "        matrix.loc[j] -= matrix[i][j] * matrix.loc[i]\n",
    "matrix"
   ]
  },
  {
   "cell_type": "markdown",
   "metadata": {},
   "source": [
    "### Get the coefficients"
   ]
  },
  {
   "cell_type": "code",
   "execution_count": 7,
   "metadata": {},
   "outputs": [
    {
     "data": {
      "text/plain": [
       "0    8.999492\n",
       "1    1.431515\n",
       "2   -5.706656\n",
       "Name: 3, dtype: float64"
      ]
     },
     "execution_count": 7,
     "metadata": {},
     "output_type": "execute_result"
    }
   ],
   "source": [
    "coeff = matrix[n]\n",
    "coeff"
   ]
  },
  {
   "cell_type": "markdown",
   "metadata": {},
   "source": [
    "### Print the results and plot"
   ]
  },
  {
   "cell_type": "code",
   "execution_count": 8,
   "metadata": {},
   "outputs": [
    {
     "name": "stdout",
     "output_type": "stream",
     "text": [
      "Fitting line: 8.999492270942852x^0 + 1.43151538332013x^1 + -5.7066564397163315x^2"
     ]
    }
   ],
   "source": [
    "# Print Fitting line\n",
    "print(\"Fitting line: \", end=\"\")\n",
    "for idx, c in enumerate(coeff):\n",
    "    print(f\"{c}x^{idx}\",end= \" + \" if idx != n-1 else \"\")"
   ]
  },
  {
   "cell_type": "code",
   "execution_count": 9,
   "metadata": {},
   "outputs": [],
   "source": [
    "# Create function\n",
    "def f(x):\n",
    "    ans = 0\n",
    "    for idx, c in enumerate(coeff):\n",
    "        ans += x ** idx * c\n",
    "    return ans"
   ]
  },
  {
   "cell_type": "code",
   "execution_count": 10,
   "metadata": {},
   "outputs": [
    {
     "name": "stdout",
     "output_type": "stream",
     "text": [
      "Total error: 7.821753090492637e-27\n"
     ]
    }
   ],
   "source": [
    "print(f\"Total error: {((f(df[0]) - df[1])**2).sum()}\")"
   ]
  },
  {
   "cell_type": "code",
   "execution_count": 11,
   "metadata": {},
   "outputs": [
    {
     "data": {
      "text/plain": [
       "<matplotlib.axes._subplots.AxesSubplot at 0x10afd376288>"
      ]
     },
     "execution_count": 11,
     "metadata": {},
     "output_type": "execute_result"
    },
    {
     "data": {
      "image/png": "[encoded data removed]",
      "text/plain": [
       "<Figure size 432x288 with 1 Axes>"
      ]
     },
     "metadata": {
      "needs_background": "light"
     },
     "output_type": "display_data"
    }
   ],
   "source": [
    "# Plot\n",
    "x = np.linspace(df[0].min(), df[0].max(), 1000)\n",
    "plot = df.plot.scatter(x=0, y=1)\n",
    "plot.plot(x, f(x), color='tab:orange')\n",
    "plot.set_xlabel(\"x\")\n",
    "plot.set_ylabel(\"y\")\n",
    "plot"
   ]
  }
 ],
 "metadata": {
  "file_extension": ".py",
  "kernelspec": {
   "display_name": "Python 3",
   "language": "python",
   "name": "python3"
  },
  "language_info": {
   "codemirror_mode": {
    "name": "ipython",
    "version": 3
   },
   "file_extension": ".py",
   "mimetype": "text/x-python",
   "name": "python",
   "nbconvert_exporter": "python",
   "pygments_lexer": "ipython3",
   "version": "3.7.5"
  },
  "mimetype": "text/x-python",
  "name": "python",
  "npconvert_exporter": "python",
  "pygments_lexer": "ipython3",
  "version": 3
 },
 "nbformat": 4,
 "nbformat_minor": 2
}
