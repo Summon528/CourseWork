{
 "cells": [
  {
   "cell_type": "code",
   "execution_count": 1,
   "metadata": {},
   "outputs": [],
   "source": [
    "import pandas as pd\n",
    "import numpy as np\n",
    "import matplotlib.pyplot as plt\n",
    "from tabulate import tabulate"
   ]
  },
  {
   "cell_type": "markdown",
   "metadata": {},
   "source": [
    "### Some constant"
   ]
  },
  {
   "cell_type": "code",
   "execution_count": 2,
   "metadata": {},
   "outputs": [],
   "source": [
    "LR = 0.02  # Learning rate\n",
    "SEED = 0x611262  # Random Seed"
   ]
  },
  {
   "cell_type": "markdown",
   "metadata": {},
   "source": [
    "### Use the second dataset and Cross Entrophy for example"
   ]
  },
  {
   "cell_type": "code",
   "execution_count": 3,
   "metadata": {},
   "outputs": [],
   "source": [
    "dataset = 2\n",
    "method = 1"
   ]
  },
  {
   "cell_type": "markdown",
   "metadata": {},
   "source": [
    "### Data Input"
   ]
  },
  {
   "cell_type": "code",
   "execution_count": 4,
   "metadata": {},
   "outputs": [],
   "source": [
    "df1 = pd.read_csv(f\"data/Logistic_data{dataset}-1.txt\", header=None)\n",
    "df2 = pd.read_csv(f\"data/Logistic_data{dataset}-2.txt\", header=None)"
   ]
  },
  {
   "cell_type": "markdown",
   "metadata": {},
   "source": [
    "### Data Preprocessing"
   ]
  },
  {
   "cell_type": "markdown",
   "metadata": {},
   "source": [
    "#### Instance dataframe"
   ]
  },
  {
   "cell_type": "code",
   "execution_count": 5,
   "metadata": {},
   "outputs": [
    {
     "data": {
      "text/html": [
       "<div>\n",
       "<style scoped>\n",
       "    .dataframe tbody tr th:only-of-type {\n",
       "        vertical-align: middle;\n",
       "    }\n",
       "\n",
       "    .dataframe tbody tr th {\n",
       "        vertical-align: top;\n",
       "    }\n",
       "\n",
       "    .dataframe thead th {\n",
       "        text-align: right;\n",
       "    }\n",
       "</style>\n",
       "<table border=\"1\" class=\"dataframe\">\n",
       "  <thead>\n",
       "    <tr style=\"text-align: right;\">\n",
       "      <th></th>\n",
       "      <th>0</th>\n",
       "      <th>1</th>\n",
       "      <th>2</th>\n",
       "    </tr>\n",
       "  </thead>\n",
       "  <tbody>\n",
       "    <tr>\n",
       "      <th>0</th>\n",
       "      <td>-0.315393</td>\n",
       "      <td>1.828732</td>\n",
       "      <td>1</td>\n",
       "    </tr>\n",
       "    <tr>\n",
       "      <th>1</th>\n",
       "      <td>-0.476204</td>\n",
       "      <td>2.551378</td>\n",
       "      <td>1</td>\n",
       "    </tr>\n",
       "    <tr>\n",
       "      <th>2</th>\n",
       "      <td>1.354411</td>\n",
       "      <td>-0.283322</td>\n",
       "      <td>1</td>\n",
       "    </tr>\n",
       "    <tr>\n",
       "      <th>3</th>\n",
       "      <td>1.281117</td>\n",
       "      <td>1.778870</td>\n",
       "      <td>1</td>\n",
       "    </tr>\n",
       "    <tr>\n",
       "      <th>4</th>\n",
       "      <td>0.850811</td>\n",
       "      <td>4.404025</td>\n",
       "      <td>1</td>\n",
       "    </tr>\n",
       "    <tr>\n",
       "      <th>...</th>\n",
       "      <td>...</td>\n",
       "      <td>...</td>\n",
       "      <td>...</td>\n",
       "    </tr>\n",
       "    <tr>\n",
       "      <th>45</th>\n",
       "      <td>-1.756437</td>\n",
       "      <td>7.702811</td>\n",
       "      <td>1</td>\n",
       "    </tr>\n",
       "    <tr>\n",
       "      <th>46</th>\n",
       "      <td>2.529756</td>\n",
       "      <td>1.812277</td>\n",
       "      <td>1</td>\n",
       "    </tr>\n",
       "    <tr>\n",
       "      <th>47</th>\n",
       "      <td>2.076089</td>\n",
       "      <td>1.942916</td>\n",
       "      <td>1</td>\n",
       "    </tr>\n",
       "    <tr>\n",
       "      <th>48</th>\n",
       "      <td>2.047522</td>\n",
       "      <td>2.210947</td>\n",
       "      <td>1</td>\n",
       "    </tr>\n",
       "    <tr>\n",
       "      <th>49</th>\n",
       "      <td>3.655723</td>\n",
       "      <td>3.848600</td>\n",
       "      <td>1</td>\n",
       "    </tr>\n",
       "  </tbody>\n",
       "</table>\n",
       "<p>100 rows × 3 columns</p>\n",
       "</div>"
      ],
      "text/plain": [
       "           0         1  2\n",
       "0  -0.315393  1.828732  1\n",
       "1  -0.476204  2.551378  1\n",
       "2   1.354411 -0.283322  1\n",
       "3   1.281117  1.778870  1\n",
       "4   0.850811  4.404025  1\n",
       "..       ...       ... ..\n",
       "45 -1.756437  7.702811  1\n",
       "46  2.529756  1.812277  1\n",
       "47  2.076089  1.942916  1\n",
       "48  2.047522  2.210947  1\n",
       "49  3.655723  3.848600  1\n",
       "\n",
       "[100 rows x 3 columns]"
      ]
     },
     "execution_count": 5,
     "metadata": {},
     "output_type": "execute_result"
    }
   ],
   "source": [
    "df = pd.concat([df1, df2])\n",
    "df[df.shape[1]] = 1\n",
    "df"
   ]
  },
  {
   "cell_type": "markdown",
   "metadata": {},
   "source": [
    "#### Label array"
   ]
  },
  {
   "cell_type": "code",
   "execution_count": 6,
   "metadata": {},
   "outputs": [
    {
     "data": {
      "text/plain": [
       "0     0\n",
       "1     0\n",
       "2     0\n",
       "3     0\n",
       "4     0\n",
       "     ..\n",
       "95    1\n",
       "96    1\n",
       "97    1\n",
       "98    1\n",
       "99    1\n",
       "Length: 100, dtype: int64"
      ]
     },
     "execution_count": 6,
     "metadata": {},
     "output_type": "execute_result"
    }
   ],
   "source": [
    "label = pd.Series([0] * len(df1) + [1] * len(df2))\n",
    "label"
   ]
  },
  {
   "cell_type": "markdown",
   "metadata": {},
   "source": [
    "### Gradient Descent"
   ]
  },
  {
   "cell_type": "markdown",
   "metadata": {},
   "source": [
    "#### Select initial weights"
   ]
  },
  {
   "cell_type": "code",
   "execution_count": 7,
   "metadata": {},
   "outputs": [
    {
     "data": {
      "text/plain": [
       "array([0.15861586, 0.28567681, 0.58491085])"
      ]
     },
     "execution_count": 7,
     "metadata": {},
     "output_type": "execute_result"
    }
   ],
   "source": [
    "np.random.seed(SEED)\n",
    "w = np.random.random_sample((df.shape[1],))\n",
    "w"
   ]
  },
  {
   "cell_type": "markdown",
   "metadata": {},
   "source": [
    "#### Create the sigmoid function"
   ]
  },
  {
   "cell_type": "code",
   "execution_count": 8,
   "metadata": {},
   "outputs": [
    {
     "data": {
      "text/plain": [
       "<function __main__.<lambda>(x, w)>"
      ]
     },
     "execution_count": 8,
     "metadata": {},
     "output_type": "execute_result"
    }
   ],
   "source": [
    "sigmoid = lambda x, w: 1 / (1 + np.exp(-np.dot(x, w)))\n",
    "sigmoid"
   ]
  },
  {
   "cell_type": "markdown",
   "metadata": {},
   "source": [
    "#### Main Gradient Descent process"
   ]
  },
  {
   "cell_type": "code",
   "execution_count": 9,
   "metadata": {},
   "outputs": [
    {
     "data": {
      "text/plain": [
       "array([ 0.5311951 ,  0.59183439, -2.02832868])"
      ]
     },
     "execution_count": 9,
     "metadata": {},
     "output_type": "execute_result"
    }
   ],
   "source": [
    "data = df.values\n",
    "for _ in range(5000):\n",
    "    pred = sigmoid(data, w)\n",
    "    if method == 0:\n",
    "        loss = (label - pred) * pred * (1 - pred)  # L2 Loss Function\n",
    "    else:\n",
    "        loss = -(pred - label) / len(label)  # Cross-Entrophy Loss Function\n",
    "    grad = np.dot(data.T, loss)  # Found out what the gradient is\n",
    "    w += grad * LR  # Update weight\n",
    "w"
   ]
  },
  {
   "cell_type": "markdown",
   "metadata": {},
   "source": [
    "### Print the results and plot"
   ]
  },
  {
   "cell_type": "code",
   "execution_count": 10,
   "metadata": {},
   "outputs": [
    {
     "data": {
      "text/plain": [
       "<matplotlib.axes._subplots.AxesSubplot at 0x2b12548c1c8>"
      ]
     },
     "execution_count": 10,
     "metadata": {},
     "output_type": "execute_result"
    },
    {
     "data": {
      "image/png": "[encoded data removed]",
      "text/plain": [
       "<Figure size 432x288 with 1 Axes>"
      ]
     },
     "metadata": {
      "needs_background": "light"
     },
     "output_type": "display_data"
    }
   ],
   "source": [
    "label_color = label.map({0: \"tab:blue\", 1: \"tab:orange\"})\n",
    "plot = df.plot.scatter(x=0, y=1, c=label_color)\n",
    "plot.set_xlabel(\"x\")\n",
    "plot.set_ylabel(\"y\")\n",
    "plot"
   ]
  },
  {
   "cell_type": "code",
   "execution_count": 11,
   "metadata": {},
   "outputs": [
    {
     "name": "stdout",
     "output_type": "stream",
     "text": [
      "|           |   Predicted: 0 |   Predicted: 1 |\n",
      "|:----------|---------------:|---------------:|\n",
      "| Actual: 0 |             40 |             10 |\n",
      "| Actual: 1 |              9 |             41 |\n",
      "\n",
      "Precision:  0.803921568627451\n",
      "Recall:  0.82\n",
      "Accuracy:  0.81\n",
      "\n"
     ]
    }
   ],
   "source": [
    " # Print statistic\n",
    "result = pd.Series(np.rint(sigmoid(data, w)))\n",
    "tp = ((result == 1) & (label == 1)).sum()\n",
    "fn = ((result == 0) & (label == 1)).sum()\n",
    "fp = ((result == 1) & (label == 0)).sum()\n",
    "tn = ((result == 0) & (label == 0)).sum()\n",
    "print(\n",
    "    tabulate(\n",
    "        pd.DataFrame(\n",
    "            [[tn, fp], [fn, tp]],\n",
    "            columns=[\"Predicted: 0\", \"Predicted: 1\"],\n",
    "            index=[\"Actual: 0\", \"Actual: 1\"],\n",
    "        ),\n",
    "        tablefmt=\"pipe\",\n",
    "        headers=\"keys\",\n",
    "    )\n",
    ")\n",
    "print(\"\")\n",
    "print(\"Precision: \", tp / (tp + fp))\n",
    "print(\"Recall: \", tp / (tp + fn))\n",
    "print(\"Accuracy: \", (tp + tn) / (tp + tn + fp + fn))\n",
    "print(\"\")"
   ]
  },
  {
   "cell_type": "code",
   "execution_count": 12,
   "metadata": {},
   "outputs": [
    {
     "name": "stdout",
     "output_type": "stream",
     "text": [
      "Weight:  [ 0.5311951   0.59183439 -2.02832868]\n"
     ]
    }
   ],
   "source": [
    "# Print weight\n",
    "print(\"Weight: \", w)"
   ]
  },
  {
   "cell_type": "code",
   "execution_count": 13,
   "metadata": {},
   "outputs": [
    {
     "data": {
      "text/plain": [
       "<matplotlib.axes._subplots.AxesSubplot at 0x2b11b77bf88>"
      ]
     },
     "execution_count": 13,
     "metadata": {},
     "output_type": "execute_result"
    },
    {
     "data": {
      "image/png": "[encoded data removed]",
      "text/plain": [
       "<Figure size 432x288 with 1 Axes>"
      ]
     },
     "metadata": {
      "needs_background": "light"
     },
     "output_type": "display_data"
    }
   ],
   "source": [
    "# Plot result\n",
    "result_color = result.map({0: \"tab:blue\", 1: \"tab:orange\"})\n",
    "plot = df.plot.scatter(x=0, y=1, c=result_color)\n",
    "plot.set_xlabel(\"x\")\n",
    "plot.set_ylabel(\"y\")\n",
    "plot"
   ]
  }
 ],
 "metadata": {
  "kernelspec": {
   "display_name": "Python 3",
   "language": "python",
   "name": "python3"
  },
  "language_info": {
   "codemirror_mode": {
    "name": "ipython",
    "version": 3
   },
   "file_extension": ".py",
   "mimetype": "text/x-python",
   "name": "python",
   "nbconvert_exporter": "python",
   "pygments_lexer": "ipython3",
   "version": "3.7.5"
  }
 },
 "nbformat": 4,
 "nbformat_minor": 2
}
